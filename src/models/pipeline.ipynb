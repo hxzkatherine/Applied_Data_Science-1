{
 "cells": [
  {
   "cell_type": "markdown",
   "metadata": {},
   "source": [
    "# Pipeline\n",
    "In this part, we present the originally complex steps using the way of pipeline. Due to the complexity of the project, we needed to customize more functions for functional implementation."
   ]
  },
  {
   "cell_type": "markdown",
   "metadata": {},
   "source": [
    "### Predefined function\n",
    "This section contains all of the functionality we implemented earlier. We show all the functions here and explain them accordingly to help readers understand."
   ]
  },
  {
   "cell_type": "code",
   "execution_count": 1,
   "metadata": {},
   "outputs": [],
   "source": [
    "import numpy as np\n",
    "import pandas as pd\n",
    "import copy\n",
    "from matplotlib import pylab as plt\n",
    "from sklearn.preprocessing import StandardScaler\n",
    "from xgboost.sklearn import XGBRegressor\n",
    "from sklearn.model_selection import cross_val_score, train_test_split, GridSearchCV\n",
    "\n",
    "\n",
    "def drop_duplicates(data):\n",
    "    \"\"\"\n",
    "    function: drop duplicates\n",
    "    param: DataFrame\n",
    "    return: new DataFrame without duplicates\n",
    "    \"\"\"\n",
    "    return data.drop_duplicates(keep='first')\n",
    "\n",
    "\n",
    "def month_sales(data):\n",
    "    \"\"\"\n",
    "    function: transfer daily sales to monthly sales\n",
    "    param: DataFrame\n",
    "    return: DataFrame with 'item_cnt_month' instead of 'item_cnt_day'\n",
    "    \"\"\"\n",
    "    col = ['date_block_num', 'shop_id', 'item_id', 'item_price', 'item_cnt_day']\n",
    "    data = data[col].groupby([\"item_id\", \"shop_id\", \"date_block_num\"]).agg(\n",
    "        {'item_price': 'mean', 'item_cnt_day': 'sum'}).reset_index()\n",
    "    data.rename(columns={\"item_cnt_day\": \"item_cnt_month\"}, inplace=True)\n",
    "    return data\n",
    "\n",
    "\n",
    "def drop_outliers(data):\n",
    "    \"\"\"\n",
    "    function: caculate zscore of the average of monthly sales, and drop samples whose average is over 3 or below -3.\n",
    "    Hint: Normally, we don't drop outliers of target variable. \n",
    "    However, in this case, the problem statement true target values are clipped into [0,20]. \n",
    "    And some the target values have extreme high value, which affects our accuracy.\n",
    "    param: DataFrame\n",
    "    return: DataFrame without outliers\n",
    "    \"\"\"\n",
    "    y = data['item_cnt_month']\n",
    "    zscore = (y - np.mean(y)) / np.std(y)\n",
    "    drop_index = zscore[(zscore > 3) | (zscore < -3)].index\n",
    "    data.drop(drop_index, axis=0, inplace=True)\n",
    "    return data\n",
    "\n",
    "\n",
    "def time_series(data):\n",
    "    \"\"\"\n",
    "    function: create historical sales records columns for the previous months\n",
    "    param: DataFrame\n",
    "    return: DataFrame with time series columns\n",
    "    \"\"\"\n",
    "    table = data.pivot_table(index=['shop_id', 'item_id'], columns='date_block_num', values='item_cnt_month',aggfunc='sum').fillna(0.0).reset_index()\n",
    "    table['shop_id']= table.shop_id\n",
    "    table['item_id']= table.item_id\n",
    "    df_price = df[['shop_id', 'item_id', 'item_price']].groupby([\"item_id\", \"shop_id\"]).mean().reset_index()\n",
    "    data = pd.merge(table, df_price, on=['shop_id', 'item_id'], how='inner')\n",
    "    return data\n",
    "\n",
    "\n",
    "def item_category(data):\n",
    "    \"\"\"\n",
    "    function: extract new feature item_category from 'item_id'\n",
    "    param: DataFrame\n",
    "    return: DataFrame with new column 'new_item_category'\n",
    "    \"\"\"\n",
    "    item_category_id = pd.read_csv(r'C:\\kaggle\\items.csv')\n",
    "    item_category = pd.read_csv(r'C:\\kaggle\\item_categories.csv')\n",
    "    df_category = pd.merge(item_category_id, item_category, on=['item_category_id'])\n",
    "    df_category['item_category_id'].astype(np.int32)\n",
    "    df_category['new_item_category'] = 'other'\n",
    "    df_category['new_item_category'].loc[df_category['item_category_id'].between(1, 8, inclusive=True)] = 'Digital Appliances'\n",
    "    df_category['new_item_category'].loc[df_category['item_category_id'].between(10, 18, inclusive=True)] = 'Consoles'\n",
    "    df_category['new_item_category'].loc[df_category['item_category_id'].between(18, 25, inclusive=True)] = 'Consoles Games'\n",
    "    df_category['new_item_category'].loc[df_category['item_category_id'].between(28, 31, inclusive=True)] = 'CD games'\n",
    "    df_category['new_item_category'].loc[df_category['item_category_id'].between(26, 27, inclusive=True)] = 'Phone games'\n",
    "    df_category['new_item_category'].loc[df_category['item_category_id'].between(32, 36, inclusive=True)] = 'Card'\n",
    "    df_category['new_item_category'].loc[df_category['item_category_id'].between(37, 42, inclusive=True)] = 'Movie'\n",
    "    df_category['new_item_category'].loc[df_category['item_category_id'].between(43, 54, inclusive=True)] = 'Books'\n",
    "    df_category['new_item_category'].loc[df_category['item_category_id'].between(55, 60, inclusive=True)] = 'Music'\n",
    "    df_category['new_item_category'].loc[df_category['item_category_id'].between(61, 72, inclusive=True)] = 'Gifts'\n",
    "    df_category['new_item_category'].loc[df_category['item_category_id'].between(73, 79, inclusive=True)] = 'Soft'\n",
    "    data = pd.merge(data, df_category[['item_id', 'new_item_category']], on=['item_id'], how='left')\n",
    "    \n",
    "    return data\n",
    "\n",
    "\n",
    "def dummy(data):\n",
    "    \"\"\"\n",
    "    function: one-hot encoding for categorical columns\n",
    "    param: DataFrame\n",
    "    return: DataFrame with one-hot encoding\n",
    "    \"\"\"\n",
    "    df_cate = pd.get_dummies(data['new_item_category'], drop_first=True)\n",
    "    data = pd.concat([data, df_cate], axis=1)\n",
    "    data.drop(['new_item_category'], axis=1, inplace=True)\n",
    "    return data\n",
    "\n",
    "\n",
    "def standarization(data):\n",
    "    \"\"\"\n",
    "    function: standarization for columns 'item_price'\n",
    "    param: DataFrame\n",
    "    return: Standarized DataFrame\n",
    "    \"\"\"\n",
    "    scaler = StandardScaler()\n",
    "    col = ['item_price']\n",
    "    data[col] = scaler.fit_transform(data[col])\n",
    "    return data\n",
    "\n",
    "\n",
    "def drop_y(data):\n",
    "    \"\"\"\n",
    "    function: keep predictors (X) and drop target variable (y)\n",
    "    param: DataFrame\n",
    "    return: predictors only\n",
    "    \"\"\"\n",
    "    return data.drop(33, axis=1)\n",
    "\n",
    "\n",
    "def transform_test_set(data):\n",
    "    \"\"\"\n",
    "    function: move all monthly sales forward one month. \n",
    "    Hint: Since the sales volume of month 34 is predicted, \n",
    "          other sales volumes should be one month in advance to accommodate the model.\n",
    "    param: DataFrame\n",
    "    return: transformed DataFrame\n",
    "    \"\"\"\n",
    "    col = list(range(0,33))\n",
    "    test = copy.deepcopy(data)\n",
    "    test[col] = df[np.add(col, 1)].values\n",
    "    test[33] = 0\n",
    "    return test\n",
    "\n",
    "\n",
    "def calculate_real_target(df):\n",
    "    \"\"\"\n",
    "    function: Our real target variable is monthly sales, not daily sales.\n",
    "              You have to run this function before you can get the real X and the real Y.\n",
    "    Hint: This process must be outside the pipeline. \n",
    "          Because during this process, the number of rows changes significantly.\n",
    "          If placed in a pipeline, the dimensions of X and y will not match.\n",
    "    param: DataFrame\n",
    "    return: DataFrame with the real target variable 'item_sales_month'\n",
    "    \"\"\"\n",
    "    df = drop_duplicates(df)\n",
    "    df = month_sales(df)\n",
    "    df = drop_outliers(df)\n",
    "    df = time_series(df)\n",
    "    return df\n",
    "\n"
   ]
  },
  {
   "cell_type": "code",
   "execution_count": 2,
   "metadata": {},
   "outputs": [],
   "source": [
    "regressor = XGBRegressor(base_score=0.5, booster=None, colsample_bylevel=1,\n",
    "                            colsample_bynode=1, colsample_bytree=1, eval_metric='rmse',\n",
    "                            gamma=0, gpu_id=-1, importance_type='gain',\n",
    "                            interaction_constraints=None, learning_rate=0.3, max_delta_step=0,\n",
    "                            max_depth=10, min_child_weight=1, missing=np.nan,\n",
    "                            monotone_constraints=None, n_estimators=100, n_jobs=-1,\n",
    "                            num_parallel_tree=1, random_state=0,\n",
    "                            reg_alpha=0, reg_lambda=1, scale_pos_weight=1, subsample=0.7,\n",
    "                            tree_method=None, validate_parameters=False, verbosity=None)"
   ]
  },
  {
   "cell_type": "markdown",
   "metadata": {},
   "source": [
    "### Pipeline Function"
   ]
  },
  {
   "cell_type": "code",
   "execution_count": 3,
   "metadata": {},
   "outputs": [],
   "source": [
    "from sklearn.preprocessing import FunctionTransformer\n",
    "from sklearn.pipeline import Pipeline\n",
    "Regressor = Pipeline(steps=([\n",
    "                            ('item_category', FunctionTransformer(item_category)),\n",
    "                            ('dummy', FunctionTransformer(dummy)),\n",
    "                            ('standarization', FunctionTransformer(standarization)),\n",
    "                            ('drop_y', FunctionTransformer(drop_y)),\n",
    "                            ('regressor', regressor)]))"
   ]
  },
  {
   "cell_type": "markdown",
   "metadata": {},
   "source": [
    "### Start here\n",
    "Now we apply the defined function, do the pipeline, and implement all the functions."
   ]
  },
  {
   "cell_type": "markdown",
   "metadata": {},
   "source": [
    "#### read file and calculate real target: 'item_cnt_month' instead of 'item_cnt_day'"
   ]
  },
  {
   "cell_type": "code",
   "execution_count": 4,
   "metadata": {},
   "outputs": [],
   "source": [
    "df = pd.read_csv(r'C:\\kaggle\\sales_train.csv')\n",
    "df = calculate_real_target(df)"
   ]
  },
  {
   "cell_type": "markdown",
   "metadata": {},
   "source": [
    "#### train_test_split: preliminary analyze model performance through test set"
   ]
  },
  {
   "cell_type": "code",
   "execution_count": 5,
   "metadata": {},
   "outputs": [],
   "source": [
    "x_train, x_test, y_train, y_test = train_test_split(df, df[33], test_size = 0.3, random_state=5)"
   ]
  },
  {
   "cell_type": "code",
   "execution_count": 6,
   "metadata": {},
   "outputs": [
    {
     "name": "stderr",
     "output_type": "stream",
     "text": [
      "C:\\Users\\10039\\AppData\\Local\\Continuum\\anaconda3\\lib\\site-packages\\pandas\\core\\indexing.py:205: SettingWithCopyWarning: \n",
      "A value is trying to be set on a copy of a slice from a DataFrame\n",
      "\n",
      "See the caveats in the documentation: http://pandas.pydata.org/pandas-docs/stable/user_guide/indexing.html#returning-a-view-versus-a-copy\n",
      "  self._setitem_with_indexer(indexer, value)\n",
      "C:\\Users\\10039\\AppData\\Local\\Continuum\\anaconda3\\lib\\site-packages\\pandas\\core\\indexing.py:205: SettingWithCopyWarning: \n",
      "A value is trying to be set on a copy of a slice from a DataFrame\n",
      "\n",
      "See the caveats in the documentation: http://pandas.pydata.org/pandas-docs/stable/user_guide/indexing.html#returning-a-view-versus-a-copy\n",
      "  self._setitem_with_indexer(indexer, value)\n"
     ]
    }
   ],
   "source": [
    "Regressor.fit(x_train, y_train)\n",
    "y_pred = Regressor.predict(x_test)"
   ]
  },
  {
   "cell_type": "markdown",
   "metadata": {},
   "source": [
    "#### Performance Evaluation"
   ]
  },
  {
   "cell_type": "code",
   "execution_count": 7,
   "metadata": {},
   "outputs": [
    {
     "name": "stdout",
     "output_type": "stream",
     "text": [
      "Root mean squared error is 0.5940003932453839\n"
     ]
    }
   ],
   "source": [
    "from sklearn.metrics import mean_squared_error\n",
    "rmse = np.sqrt(mean_squared_error(y_test.tolist(), y_pred))\n",
    "print('Root mean squared error is {}'.format(rmse))"
   ]
  },
  {
   "cell_type": "code",
   "execution_count": 8,
   "metadata": {},
   "outputs": [
    {
     "data": {
      "text/html": [
       "<div>\n",
       "<style scoped>\n",
       "    .dataframe tbody tr th:only-of-type {\n",
       "        vertical-align: middle;\n",
       "    }\n",
       "\n",
       "    .dataframe tbody tr th {\n",
       "        vertical-align: top;\n",
       "    }\n",
       "\n",
       "    .dataframe thead th {\n",
       "        text-align: right;\n",
       "    }\n",
       "</style>\n",
       "<table border=\"1\" class=\"dataframe\">\n",
       "  <thead>\n",
       "    <tr style=\"text-align: right;\">\n",
       "      <th></th>\n",
       "      <th>ground truth</th>\n",
       "      <th>prediction</th>\n",
       "    </tr>\n",
       "  </thead>\n",
       "  <tbody>\n",
       "    <tr>\n",
       "      <td>0</td>\n",
       "      <td>0.0</td>\n",
       "      <td>0.224904</td>\n",
       "    </tr>\n",
       "    <tr>\n",
       "      <td>1</td>\n",
       "      <td>0.0</td>\n",
       "      <td>0.065164</td>\n",
       "    </tr>\n",
       "    <tr>\n",
       "      <td>2</td>\n",
       "      <td>0.0</td>\n",
       "      <td>0.068935</td>\n",
       "    </tr>\n",
       "    <tr>\n",
       "      <td>3</td>\n",
       "      <td>0.0</td>\n",
       "      <td>0.050085</td>\n",
       "    </tr>\n",
       "    <tr>\n",
       "      <td>4</td>\n",
       "      <td>0.0</td>\n",
       "      <td>0.072486</td>\n",
       "    </tr>\n",
       "    <tr>\n",
       "      <td>...</td>\n",
       "      <td>...</td>\n",
       "      <td>...</td>\n",
       "    </tr>\n",
       "    <tr>\n",
       "      <td>127167</td>\n",
       "      <td>0.0</td>\n",
       "      <td>0.389688</td>\n",
       "    </tr>\n",
       "    <tr>\n",
       "      <td>127168</td>\n",
       "      <td>0.0</td>\n",
       "      <td>0.026966</td>\n",
       "    </tr>\n",
       "    <tr>\n",
       "      <td>127169</td>\n",
       "      <td>0.0</td>\n",
       "      <td>-0.019217</td>\n",
       "    </tr>\n",
       "    <tr>\n",
       "      <td>127170</td>\n",
       "      <td>0.0</td>\n",
       "      <td>0.078671</td>\n",
       "    </tr>\n",
       "    <tr>\n",
       "      <td>127171</td>\n",
       "      <td>0.0</td>\n",
       "      <td>0.046403</td>\n",
       "    </tr>\n",
       "  </tbody>\n",
       "</table>\n",
       "<p>127172 rows × 2 columns</p>\n",
       "</div>"
      ],
      "text/plain": [
       "        ground truth  prediction\n",
       "0                0.0    0.224904\n",
       "1                0.0    0.065164\n",
       "2                0.0    0.068935\n",
       "3                0.0    0.050085\n",
       "4                0.0    0.072486\n",
       "...              ...         ...\n",
       "127167           0.0    0.389688\n",
       "127168           0.0    0.026966\n",
       "127169           0.0   -0.019217\n",
       "127170           0.0    0.078671\n",
       "127171           0.0    0.046403\n",
       "\n",
       "[127172 rows x 2 columns]"
      ]
     },
     "execution_count": 8,
     "metadata": {},
     "output_type": "execute_result"
    }
   ],
   "source": [
    "output = pd.DataFrame([y_test.tolist(),y_pred]).T\n",
    "output.columns=['ground truth', 'prediction']\n",
    "output"
   ]
  },
  {
   "cell_type": "markdown",
   "metadata": {},
   "source": [
    "#### Predict Kaggle test set"
   ]
  },
  {
   "cell_type": "code",
   "execution_count": 9,
   "metadata": {},
   "outputs": [
    {
     "name": "stderr",
     "output_type": "stream",
     "text": [
      "C:\\Users\\10039\\AppData\\Local\\Continuum\\anaconda3\\lib\\site-packages\\pandas\\core\\indexing.py:205: SettingWithCopyWarning: \n",
      "A value is trying to be set on a copy of a slice from a DataFrame\n",
      "\n",
      "See the caveats in the documentation: http://pandas.pydata.org/pandas-docs/stable/user_guide/indexing.html#returning-a-view-versus-a-copy\n",
      "  self._setitem_with_indexer(indexer, value)\n",
      "C:\\Users\\10039\\AppData\\Local\\Continuum\\anaconda3\\lib\\site-packages\\pandas\\core\\indexing.py:205: SettingWithCopyWarning: \n",
      "A value is trying to be set on a copy of a slice from a DataFrame\n",
      "\n",
      "See the caveats in the documentation: http://pandas.pydata.org/pandas-docs/stable/user_guide/indexing.html#returning-a-view-versus-a-copy\n",
      "  self._setitem_with_indexer(indexer, value)\n"
     ]
    }
   ],
   "source": [
    "#train xgboost model with whole data set\n",
    "X = df\n",
    "y = df[33]\n",
    "Regressor.fit(X, y)\n",
    "#predict kaggle test set\n",
    "df_test = transform_test_set(df)\n",
    "df_test[33] = Regressor.predict(df_test)"
   ]
  },
  {
   "cell_type": "code",
   "execution_count": 10,
   "metadata": {},
   "outputs": [
    {
     "data": {
      "text/html": [
       "<div>\n",
       "<style scoped>\n",
       "    .dataframe tbody tr th:only-of-type {\n",
       "        vertical-align: middle;\n",
       "    }\n",
       "\n",
       "    .dataframe tbody tr th {\n",
       "        vertical-align: top;\n",
       "    }\n",
       "\n",
       "    .dataframe thead th {\n",
       "        text-align: right;\n",
       "    }\n",
       "</style>\n",
       "<table border=\"1\" class=\"dataframe\">\n",
       "  <thead>\n",
       "    <tr style=\"text-align: right;\">\n",
       "      <th></th>\n",
       "      <th>ID</th>\n",
       "      <th>item_cnt_month</th>\n",
       "    </tr>\n",
       "  </thead>\n",
       "  <tbody>\n",
       "    <tr>\n",
       "      <td>0</td>\n",
       "      <td>0</td>\n",
       "      <td>0.593261</td>\n",
       "    </tr>\n",
       "    <tr>\n",
       "      <td>1</td>\n",
       "      <td>1</td>\n",
       "      <td>0.000000</td>\n",
       "    </tr>\n",
       "    <tr>\n",
       "      <td>2</td>\n",
       "      <td>2</td>\n",
       "      <td>0.570397</td>\n",
       "    </tr>\n",
       "    <tr>\n",
       "      <td>3</td>\n",
       "      <td>3</td>\n",
       "      <td>0.085306</td>\n",
       "    </tr>\n",
       "    <tr>\n",
       "      <td>4</td>\n",
       "      <td>4</td>\n",
       "      <td>0.000000</td>\n",
       "    </tr>\n",
       "    <tr>\n",
       "      <td>...</td>\n",
       "      <td>...</td>\n",
       "      <td>...</td>\n",
       "    </tr>\n",
       "    <tr>\n",
       "      <td>214195</td>\n",
       "      <td>214195</td>\n",
       "      <td>0.000000</td>\n",
       "    </tr>\n",
       "    <tr>\n",
       "      <td>214196</td>\n",
       "      <td>214196</td>\n",
       "      <td>0.000000</td>\n",
       "    </tr>\n",
       "    <tr>\n",
       "      <td>214197</td>\n",
       "      <td>214197</td>\n",
       "      <td>0.002306</td>\n",
       "    </tr>\n",
       "    <tr>\n",
       "      <td>214198</td>\n",
       "      <td>214198</td>\n",
       "      <td>0.000000</td>\n",
       "    </tr>\n",
       "    <tr>\n",
       "      <td>214199</td>\n",
       "      <td>214199</td>\n",
       "      <td>0.017698</td>\n",
       "    </tr>\n",
       "  </tbody>\n",
       "</table>\n",
       "<p>214200 rows × 2 columns</p>\n",
       "</div>"
      ],
      "text/plain": [
       "            ID  item_cnt_month\n",
       "0            0        0.593261\n",
       "1            1        0.000000\n",
       "2            2        0.570397\n",
       "3            3        0.085306\n",
       "4            4        0.000000\n",
       "...        ...             ...\n",
       "214195  214195        0.000000\n",
       "214196  214196        0.000000\n",
       "214197  214197        0.002306\n",
       "214198  214198        0.000000\n",
       "214199  214199        0.017698\n",
       "\n",
       "[214200 rows x 2 columns]"
      ]
     },
     "execution_count": 10,
     "metadata": {},
     "output_type": "execute_result"
    }
   ],
   "source": [
    "test = pd.read_csv(r'C:\\kaggle\\test.csv')\n",
    "output = pd.merge(test, df_test, on=['shop_id', 'item_id'], how='left').fillna(0)\n",
    "output = output[['ID', 33]]\n",
    "output.rename(columns={33: \"item_cnt_month\"}, inplace=True)\n",
    "output['item_cnt_month'] = np.clip(output['item_cnt_month'], 0, 20)\n",
    "output"
   ]
  },
  {
   "cell_type": "code",
   "execution_count": 11,
   "metadata": {},
   "outputs": [],
   "source": [
    "output.to_csv(r'C:\\kaggle\\submission.csv', index=False)"
   ]
  },
  {
   "cell_type": "markdown",
   "metadata": {},
   "source": [
    "RMSE of Kaggle data set is 1.15500. The Kaggle scores and submissions are stored as screenshots in the 'Kaggle Evaluation' folder"
   ]
  },
  {
   "cell_type": "code",
   "execution_count": null,
   "metadata": {},
   "outputs": [],
   "source": []
  }
 ],
 "metadata": {
  "kernelspec": {
   "display_name": "Python 3",
   "language": "python",
   "name": "python3"
  },
  "language_info": {
   "codemirror_mode": {
    "name": "ipython",
    "version": 3
   },
   "file_extension": ".py",
   "mimetype": "text/x-python",
   "name": "python",
   "nbconvert_exporter": "python",
   "pygments_lexer": "ipython3",
   "version": "3.7.4"
  }
 },
 "nbformat": 4,
 "nbformat_minor": 2
}
