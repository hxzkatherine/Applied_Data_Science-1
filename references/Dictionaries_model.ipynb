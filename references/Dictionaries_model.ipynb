{
 "cells": [
  {
   "cell_type": "markdown",
   "metadata": {},
   "source": [
    "# Dictionaries for columns appears during the procedure\n",
    "\n",
    "ID - an Id that represents a (Shop, Item) tuple within the test set\n",
    "\n",
    "shop_id - unique identifier of a shop\n",
    "\n",
    "item_id - unique identifier of a product\n",
    "\n",
    "item_category_id - unique identifier of item category\n",
    "\n",
    "new_item_category - item categories, including Digital Appliances, Consoles,                       Consoles Games, Phone games, CD games, Card, Movie, Books,                     Music, Gifts, Soft and other\n",
    "\n",
    "date_block_num - a consecutive month number, used for convenience. January 2013 is 0, February 2013 is 1,..., October 2015 is 33\n",
    "\n",
    "month - the correspoding month with daily/monthly sales\n",
    "\n",
    "season - the correspoding season with daily/monthly sales\n",
    "\n",
    "0-33 - Sales in month x are listed as x\n",
    "\n",
    "item_price - average price of an item\n",
    "\n"
   ]
  },
  {
   "cell_type": "code",
   "execution_count": null,
   "metadata": {},
   "outputs": [],
   "source": []
  }
 ],
 "metadata": {
  "kernelspec": {
   "display_name": "Python 3",
   "language": "python",
   "name": "python3"
  },
  "language_info": {
   "codemirror_mode": {
    "name": "ipython",
    "version": 3
   },
   "file_extension": ".py",
   "mimetype": "text/x-python",
   "name": "python",
   "nbconvert_exporter": "python",
   "pygments_lexer": "ipython3",
   "version": "3.7.4"
  }
 },
 "nbformat": 4,
 "nbformat_minor": 2
}
