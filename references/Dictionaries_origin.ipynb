{
 "cells": [
  {
   "cell_type": "markdown",
   "metadata": {},
   "source": [
    "# Dictionaries for original data set\n",
    "\n",
    "### File descriptions:\n",
    "\n",
    "sales_train.csv - the training set. Daily historical data from January 2013 to October 2015.\n",
    "\n",
    "test.csv - the test set. You need to forecast the sales for these shops and products for November 2015.\n",
    "\n",
    "sample_submission.csv - a sample submission file in the correct format.\n",
    "\n",
    "items.csv - supplemental information about the items/products.\n",
    "\n",
    "item_categories.csv - supplemental information about the items categories.\n",
    "\n",
    "shops.csv- supplemental information about the shops.\n",
    "\n",
    "### Data fields\n",
    "\n",
    "ID - an Id that represents a (Shop, Item) tuple within the test set\n",
    "\n",
    "shop_id - unique identifier of a shop\n",
    "\n",
    "item_id - unique identifier of a product\n",
    "\n",
    "item_category_id - unique identifier of item category\n",
    "\n",
    "item_cnt_day - number of products sold. You are predicting a monthly amount of this measure\n",
    "\n",
    "item_price - current price of an item\n",
    "\n",
    "date - date in format dd/mm/yyyy\n",
    "\n",
    "date_block_num - a consecutive month number, used for convenience. January 2013 is 0, February 2013 is 1,..., October 2015 is 33\n",
    "\n",
    "item_name - name of item\n",
    "\n",
    "shop_name - name of shop\n",
    "\n",
    "item_category_name - name of item category"
   ]
  },
  {
   "cell_type": "code",
   "execution_count": null,
   "metadata": {},
   "outputs": [],
   "source": []
  }
 ],
 "metadata": {
  "kernelspec": {
   "display_name": "Python 3",
   "language": "python",
   "name": "python3"
  },
  "language_info": {
   "codemirror_mode": {
    "name": "ipython",
    "version": 3
   },
   "file_extension": ".py",
   "mimetype": "text/x-python",
   "name": "python",
   "nbconvert_exporter": "python",
   "pygments_lexer": "ipython3",
   "version": "3.7.4"
  }
 },
 "nbformat": 4,
 "nbformat_minor": 2
}
